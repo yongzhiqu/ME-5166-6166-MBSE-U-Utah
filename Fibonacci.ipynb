{
  "nbformat": 4,
  "nbformat_minor": 0,
  "metadata": {
    "colab": {
      "provenance": [],
      "authorship_tag": "ABX9TyM1NFLHh7b2yt4lrqzNmviW",
      "include_colab_link": true
    },
    "kernelspec": {
      "name": "python3",
      "display_name": "Python 3"
    },
    "language_info": {
      "name": "python"
    }
  },
  "cells": [
    {
      "cell_type": "markdown",
      "metadata": {
        "id": "view-in-github",
        "colab_type": "text"
      },
      "source": [
        "<a href=\"https://colab.research.google.com/github/yongzhiqu/ME-5166-6166-MBSE-U-Utah/blob/main/Fibonacci.ipynb\" target=\"_parent\"><img src=\"https://colab.research.google.com/assets/colab-badge.svg\" alt=\"Open In Colab\"/></a>"
      ]
    },
    {
      "cell_type": "code",
      "execution_count": 13,
      "metadata": {
        "id": "F2sPEzH_dBcz"
      },
      "outputs": [],
      "source": [
        "def Fibonacci(n):\n",
        "    # print n+1 Fibonacci numbers, from 0 until F_n\n",
        "    # Check if input is 0 then it will\n",
        "    # print incorrect input\n",
        "    if n < 0:\n",
        "        print(\"Incorrect input\")\n",
        "\n",
        "    else:\n",
        "        # Check if n is 0\n",
        "        # then it will print 0\n",
        "        if n == 0:\n",
        "            next_number = 0\n",
        "        # Check if n is 1\n",
        "        # it will print 0 1\n",
        "        elif n == 1:\n",
        "            next_number = 1\n",
        "        elif n >1:\n",
        "            num1 = 0\n",
        "            num2 = 1\n",
        "            next_number = num2\n",
        "            count = 1\n",
        "            while count <= n-1:\n",
        "#                print(next_number, end=\" \")\n",
        "                count += 1\n",
        "                num1, num2 = num2, next_number\n",
        "                next_number = num1 + num2\n",
        "    return(next_number)\n"
      ]
    },
    {
      "cell_type": "code",
      "source": [
        "nnn = Fibonacci(30)\n",
        "nnn"
      ],
      "metadata": {
        "id": "u9xHb_SlG9kc",
        "outputId": "7bdaac9e-017d-439e-eab6-aa178776e60e",
        "colab": {
          "base_uri": "https://localhost:8080/"
        }
      },
      "execution_count": 19,
      "outputs": [
        {
          "output_type": "execute_result",
          "data": {
            "text/plain": [
              "1346269"
            ]
          },
          "metadata": {},
          "execution_count": 19
        }
      ]
    },
    {
      "cell_type": "code",
      "source": [
        "def Fibonacci(n):\n",
        "    # print n+1 Fibonacci numbers, from 0 until F_n\n",
        "    # Check if input is 0 then it will\n",
        "    # print incorrect input\n",
        "    if n < 0:\n",
        "        print(\"Incorrect input\")\n",
        "\n",
        "    else:\n",
        "        # Check if n is 0\n",
        "        # then it will print 0\n",
        "        if next_number = 0:\n",
        "            print(0)\n",
        "        # Check if n is 1\n",
        "        # it will print 0 1\n",
        "        elif n == 1:\n",
        "            print(0, 1)\n",
        "        elif n >1:\n",
        "            num1 = 0\n",
        "            num2 = 1\n",
        "            next_number = num2\n",
        "            count = 1\n",
        "            print(0, 1, end=\" \")\n",
        "            while count <= n-1:\n",
        "#                print(next_number, end=\" \")\n",
        "                count += 1\n",
        "                num1, num2 = num2, next_number\n",
        "                next_number = num1 + num2\n",
        "    return(next_number)"
      ],
      "metadata": {
        "id": "aJ4SnEBJGwxb"
      },
      "execution_count": null,
      "outputs": []
    },
    {
      "cell_type": "markdown",
      "source": [
        "This implement a function for Fibonacci, next you call the function to generate Fibonacci time series with your desired length n"
      ],
      "metadata": {
        "id": "rCuznyKVdHio"
      }
    },
    {
      "cell_type": "code",
      "source": [
        "nnn = Fibonacci(20)\n",
        "nnn"
      ],
      "metadata": {
        "colab": {
          "base_uri": "https://localhost:8080/"
        },
        "id": "rUtPGy2kdMLH",
        "outputId": "034c0273-2abb-4d9e-c965-71ca4d011c7b"
      },
      "execution_count": 10,
      "outputs": [
        {
          "output_type": "stream",
          "name": "stdout",
          "text": [
            "0 1 "
          ]
        },
        {
          "output_type": "execute_result",
          "data": {
            "text/plain": [
              "10946"
            ]
          },
          "metadata": {},
          "execution_count": 10
        }
      ]
    },
    {
      "cell_type": "code",
      "source": [
        "import random\n"
      ],
      "metadata": {
        "id": "Nt_xEFZ0miZE"
      },
      "execution_count": null,
      "outputs": []
    },
    {
      "cell_type": "code",
      "source": [
        "array1=random.uniform(0, 100)\n",
        "print(array1)"
      ],
      "metadata": {
        "id": "OBDrMFWKmohh",
        "outputId": "2fe13abd-028c-4e46-f0ee-741c9d3fbae9",
        "colab": {
          "base_uri": "https://localhost:8080/"
        }
      },
      "execution_count": null,
      "outputs": [
        {
          "output_type": "stream",
          "name": "stdout",
          "text": [
            "89.32610457720548\n"
          ]
        }
      ]
    },
    {
      "cell_type": "code",
      "source": [
        "import numpy as np\n",
        "\n",
        "array1= np.zeros([100,1])\n",
        "\n",
        "for i in range (0, 100):\n",
        "    array1[i] = random.uniform(0, 100)\n",
        "\n",
        "print(array1)"
      ],
      "metadata": {
        "id": "SfVpkG9AnFjK"
      },
      "execution_count": null,
      "outputs": []
    },
    {
      "cell_type": "code",
      "source": [
        "array2 = np.sort(array1, axis=0)\n",
        "print(array1)\n",
        "# if you created a copy of dictionary, array1 and and array2 will be the same object"
      ],
      "metadata": {
        "id": "9gWUL6jLn4V7"
      },
      "execution_count": null,
      "outputs": []
    },
    {
      "cell_type": "code",
      "source": [
        "class Player(object):\n",
        "      def __init__(self, position, name, capname, playernum, week, salary, points, mean, stdv):\n",
        "          self.position = position\n",
        "          self.name = name\n",
        "          self.capname = capname\n",
        "          self.playernum = playernum\n",
        "          self.week = week\n",
        "          self.salary = salary\n",
        "          self.points = points\n",
        "          self.mean = mean\n",
        "          self.stdv = stdv\n"
      ],
      "metadata": {
        "id": "QrqewRVxqFMA"
      },
      "execution_count": null,
      "outputs": []
    }
  ]
}