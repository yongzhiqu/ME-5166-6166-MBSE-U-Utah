{
  "nbformat": 4,
  "nbformat_minor": 0,
  "metadata": {
    "colab": {
      "provenance": [],
      "authorship_tag": "ABX9TyMOTELWox5iL4RzoEOeBAds",
      "include_colab_link": true
    },
    "kernelspec": {
      "name": "python3",
      "display_name": "Python 3"
    },
    "language_info": {
      "name": "python"
    }
  },
  "cells": [
    {
      "cell_type": "markdown",
      "metadata": {
        "id": "view-in-github",
        "colab_type": "text"
      },
      "source": [
        "<a href=\"https://colab.research.google.com/github/yongzhiqu/ME-5166-6166-MBSE-U-Utah/blob/main/Fibonacci.ipynb\" target=\"_parent\"><img src=\"https://colab.research.google.com/assets/colab-badge.svg\" alt=\"Open In Colab\"/></a>"
      ]
    },
    {
      "cell_type": "code",
      "execution_count": 25,
      "metadata": {
        "id": "F2sPEzH_dBcz"
      },
      "outputs": [],
      "source": [
        "def Fibonacci(n):\n",
        "    # print n+1 Fibonacci numbers, from 0 until F_n\n",
        "    # Check if input is 0 then it will\n",
        "    # print incorrect input\n",
        "    if n < 0:\n",
        "        print(\"Incorrect input\")\n",
        "\n",
        "    else:\n",
        "        # Check if n is 0\n",
        "        # then it will print 0\n",
        "        if n == 0:\n",
        "            print(0)\n",
        "        # Check if n is 1\n",
        "        # it will print 0 1\n",
        "        elif n == 1:\n",
        "            print(0, 1)\n",
        "        elif n >1:\n",
        "            num1 = 0\n",
        "            num2 = 1\n",
        "            next_number = num2\n",
        "            count = 1\n",
        "            print(0, 1, end=\" \")\n",
        "            while count <= n-1:\n",
        "                print(next_number, end=\" \")\n",
        "                count += 1\n",
        "                num1, num2 = num2, next_number\n",
        "                next_number = num1 + num2\n",
        "            print()\n",
        ""
      ]
    },
    {
      "cell_type": "markdown",
      "source": [
        "This implement a function for Fibonacci, next you call the function to generate Fibonacci time series with your desired length n"
      ],
      "metadata": {
        "id": "rCuznyKVdHio"
      }
    },
    {
      "cell_type": "code",
      "source": [
        "Fibonacci(20)"
      ],
      "metadata": {
        "colab": {
          "base_uri": "https://localhost:8080/"
        },
        "id": "rUtPGy2kdMLH",
        "outputId": "022cf614-619b-4ef0-af02-d37ee55408eb"
      },
      "execution_count": 26,
      "outputs": [
        {
          "output_type": "stream",
          "name": "stdout",
          "text": [
            "0 1 1 2 3 5 8 13 21 34 55 89 144 233 377 610 987 1597 2584 4181 6765 \n"
          ]
        }
      ]
    }
  ]
}