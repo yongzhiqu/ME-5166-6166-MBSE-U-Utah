{
  "nbformat": 4,
  "nbformat_minor": 0,
  "metadata": {
    "colab": {
      "name": "python_notebook_tutorial.ipynb",
      "provenance": [],
      "include_colab_link": true
    },
    "kernelspec": {
      "name": "python3",
      "display_name": "Python 3"
    }
  },
  "cells": [
    {
      "cell_type": "markdown",
      "metadata": {
        "id": "view-in-github",
        "colab_type": "text"
      },
      "source": [
        "<a href=\"https://colab.research.google.com/github/yongzhiqu/ME-5166-6166-MBSE-U-Utah/blob/main/python_notebook_tutorial.ipynb\" target=\"_parent\"><img src=\"https://colab.research.google.com/assets/colab-badge.svg\" alt=\"Open In Colab\"/></a>"
      ]
    },
    {
      "cell_type": "markdown",
      "source": [
        "\n",
        "\n",
        "> Indented block\n",
        "Python is an Object Oriented Programming language. Why use OOP?\n",
        "Object Oriented Programming (OOP) is one of the most widely used programming paradigm\n",
        "​\n",
        "Why is it extensively used?\n",
        "Well suited for building trivial and complex applications\n",
        "Allows re-use of code thereby increasing productivity\n",
        "New features can be easily built into the existing code\n",
        "Reduced production cost and maintenance cost\n",
        "​\n",
        "Common programming languages used for OOP include C++, Java, and C#\n"
      ],
      "metadata": {
        "id": "LLrdWpU2dyRE"
      }
    },
    {
      "cell_type": "code",
      "source": [
        "def print_helloWorld():\n",
        "\n",
        "    myString = 'Hello World!'\n",
        "    print(myString)\n",
        "\n",
        "def print_string(mySrg):\n",
        "    print(mySrg)\n"
      ],
      "metadata": {
        "id": "RkuWRNqpBNAg"
      },
      "execution_count": null,
      "outputs": []
    },
    {
      "cell_type": "code",
      "source": [
        "print_helloWorld()"
      ],
      "metadata": {
        "colab": {
          "base_uri": "https://localhost:8080/"
        },
        "id": "JD7M3SZ6Bfhm",
        "outputId": "4796f1bb-f264-4925-b05a-a193323a187d"
      },
      "execution_count": null,
      "outputs": [
        {
          "output_type": "stream",
          "name": "stdout",
          "text": [
            "Hello World!\n"
          ]
        }
      ]
    },
    {
      "cell_type": "code",
      "source": [
        "string_1 = 'Yongzhi'\n",
        "print_string(string_1)"
      ],
      "metadata": {
        "colab": {
          "base_uri": "https://localhost:8080/"
        },
        "id": "brZFQP8CwWOP",
        "outputId": "3558046c-f084-4e6a-fef4-a9d8a74db52f"
      },
      "execution_count": null,
      "outputs": [
        {
          "output_type": "stream",
          "name": "stdout",
          "text": [
            "Yongzhi\n"
          ]
        }
      ]
    },
    {
      "cell_type": "markdown",
      "source": [
        "how python pass values"
      ],
      "metadata": {
        "id": "3xfzfwtnByL2"
      }
    },
    {
      "cell_type": "code",
      "source": [
        "the_world_is_flat = True\n",
        "\n",
        "if the_world_is_flat:\n",
        "    print(\"Be careful not to fall off!\")"
      ],
      "metadata": {
        "id": "it1yznPXB2hl",
        "colab": {
          "base_uri": "https://localhost:8080/"
        },
        "outputId": "18bdef9e-9f4c-430b-8ac2-26cb9675b887"
      },
      "execution_count": 1,
      "outputs": [
        {
          "output_type": "stream",
          "name": "stdout",
          "text": [
            "Be careful not to fall off!\n"
          ]
        }
      ]
    },
    {
      "cell_type": "code",
      "source": [
        "the_world_is_flat = False\n",
        "\n",
        "if the_world_is_flat:\n",
        "    print(\"Be careful not to fall off!\")"
      ],
      "metadata": {
        "id": "wTE81TqwsnJh"
      },
      "execution_count": 2,
      "outputs": []
    },
    {
      "cell_type": "code",
      "metadata": {
        "colab": {
          "base_uri": "https://localhost:8080/"
        },
        "id": "f8VlJ3vB71mb",
        "outputId": "bf9a75fa-2c97-47ee-b8f3-df97c5fc6346"
      },
      "source": [
        "a = 3\n",
        "b = 5\n",
        "c = a + b\n",
        "print(c)\n",
        "\n",
        "squares = [1, 4, 9, 16, 25]\n",
        "\n",
        "# The following codes index the same element\n",
        "print(len(squares))\n",
        "print(squares[4])\n",
        "\n",
        "print(squares[len(squares)-1])\n",
        "print(squares[-1])\n",
        "\n",
        "\n"
      ],
      "execution_count": 4,
      "outputs": [
        {
          "output_type": "stream",
          "name": "stdout",
          "text": [
            "8\n",
            "5\n",
            "25\n",
            "25\n",
            "25\n"
          ]
        }
      ]
    },
    {
      "cell_type": "code",
      "metadata": {
        "colab": {
          "base_uri": "https://localhost:8080/"
        },
        "id": "fWk1tTk_fchL",
        "outputId": "87ba4775-4530-4978-9459-ad014fc45d87"
      },
      "source": [
        "import numpy as np\n",
        "squares1 = squares + [36, 49, 64, 81, 100]\n",
        "squares1"
      ],
      "execution_count": 8,
      "outputs": [
        {
          "output_type": "execute_result",
          "data": {
            "text/plain": [
              "[1, 4, 9, 16, 25, 36, 49, 64, 81, 100]"
            ]
          },
          "metadata": {},
          "execution_count": 8
        }
      ]
    },
    {
      "cell_type": "code",
      "source": [
        "square2 = np.array(squares)\n",
        "square3 = np.array([36, 49, 64, 81, 100])\n",
        "square4 = square2+square3\n",
        "print(square4)"
      ],
      "metadata": {
        "id": "4LL6JeeMtQ-Z",
        "outputId": "b4882810-9d1b-42b8-8db3-a0eb0de4ff36",
        "colab": {
          "base_uri": "https://localhost:8080/"
        }
      },
      "execution_count": 14,
      "outputs": [
        {
          "output_type": "stream",
          "name": "stdout",
          "text": [
            "[ 37  53  73  97 125]\n"
          ]
        }
      ]
    },
    {
      "cell_type": "code",
      "source": [
        "square5 = square2*square3\n",
        "print(square5)"
      ],
      "metadata": {
        "id": "_NjkDM75ugYw",
        "outputId": "eab1551c-e0d2-4a5c-dbfa-55eb07c5d99b",
        "colab": {
          "base_uri": "https://localhost:8080/"
        }
      },
      "execution_count": 16,
      "outputs": [
        {
          "output_type": "stream",
          "name": "stdout",
          "text": [
            "[  36  196  576 1296 2500]\n"
          ]
        }
      ]
    },
    {
      "cell_type": "code",
      "source": [
        "b=[]\n",
        "for j in squares:\n",
        "    b.append(j)\n",
        "b"
      ],
      "metadata": {
        "colab": {
          "base_uri": "https://localhost:8080/"
        },
        "id": "-AIshiRI4B38",
        "outputId": "ab343039-aa74-4330-f471-1d029890d425"
      },
      "execution_count": 20,
      "outputs": [
        {
          "output_type": "execute_result",
          "data": {
            "text/plain": [
              "[1, 4, 9, 16, 25]"
            ]
          },
          "metadata": {},
          "execution_count": 20
        }
      ]
    },
    {
      "cell_type": "code",
      "source": [
        "d=[]\n",
        "for number in squares:\n",
        "    d.append(number)\n",
        "\n",
        "print(d)"
      ],
      "metadata": {
        "id": "wYWJYpN34fep",
        "colab": {
          "base_uri": "https://localhost:8080/"
        },
        "outputId": "e7fad1f7-4830-449f-b4aa-e5f0d436e972"
      },
      "execution_count": null,
      "outputs": [
        {
          "output_type": "stream",
          "name": "stdout",
          "text": [
            "[1, 4, 9, 16, 25]\n"
          ]
        }
      ]
    },
    {
      "cell_type": "code",
      "source": [
        "import numpy as np\n",
        "squares2 = np.array([1, 4, 9, 16, 25])\n",
        "print(squares2)\n",
        "squares3 = np.array([36, 49, 64, 81, 100])\n",
        "print(squares3)\n",
        "\n",
        "squares4 = squares2+squares3\n",
        "print(squares4)"
      ],
      "metadata": {
        "colab": {
          "base_uri": "https://localhost:8080/"
        },
        "id": "IS5r3B5ZzgaZ",
        "outputId": "627cf851-27e2-4709-c097-6e791777e0ae"
      },
      "execution_count": 21,
      "outputs": [
        {
          "output_type": "stream",
          "name": "stdout",
          "text": [
            "[ 1  4  9 16 25]\n",
            "[ 36  49  64  81 100]\n",
            "[ 37  53  73  97 125]\n"
          ]
        }
      ]
    },
    {
      "cell_type": "code",
      "metadata": {
        "id": "JnLMzc0uf5AM"
      },
      "source": [
        "cubes = [1, 8, 27, 65, 125]"
      ],
      "execution_count": null,
      "outputs": []
    },
    {
      "cell_type": "code",
      "metadata": {
        "colab": {
          "base_uri": "https://localhost:8080/"
        },
        "id": "owJ0rTmXgKgo",
        "outputId": "3bf67f1d-f7f0-4136-8d91-aae248d92d8c"
      },
      "source": [
        "import numpy as np #Features\n",
        "x = np.array([[2, 1834, 1],[3, 1534, 2],[2, 962, 3]])# Target or Price\n",
        "y = [8500, 9600, 258800]\n",
        "y = np.array(y)\n",
        "print(y+y)"
      ],
      "execution_count": null,
      "outputs": [
        {
          "output_type": "stream",
          "name": "stdout",
          "text": [
            "[ 17000  19200 517600]\n"
          ]
        }
      ]
    },
    {
      "cell_type": "code",
      "metadata": {
        "colab": {
          "base_uri": "https://localhost:8080/",
          "height": 350
        },
        "id": "OHxG0tclgnFb",
        "outputId": "2addad6c-97ba-414d-e886-98b2d28b478c"
      },
      "source": [
        "A = [[1, 4, 5, 12],\n",
        "     [-5, 8, 9, 0],\n",
        "     [-6, 7, 11, 19]] # This defines a list\n",
        "\n",
        "print(\"A =\", A)\n",
        "print(\"A[0] =\", A[0])      # 1st row\n",
        "print(\"A[1][2] =\", A[1][2])   # 3rd element of 2nd row\n",
        "print(\"A[0][-2] =\", A[0][-2])   # Last element of 1st Row\n",
        "print(\"thirdRow = \", A[1])\n",
        "column = [];        # empty list\n",
        "for element in A:\n",
        "    column.append(element[2])\n",
        "\n",
        "print(\"3rd column =\", column)\n",
        "\n",
        "print(A[:,2])\n",
        "# this gives you an error, becuase list indices must be integers or slices, not tuple\n",
        "# however, this will work for numpy array, because numpy array (numpy library) has everything of python list and its ownextra."
      ],
      "execution_count": 22,
      "outputs": [
        {
          "output_type": "stream",
          "name": "stdout",
          "text": [
            "A = [[1, 4, 5, 12], [-5, 8, 9, 0], [-6, 7, 11, 19]]\n",
            "A[0] = [1, 4, 5, 12]\n",
            "A[1][2] = 9\n",
            "A[0][-2] = 5\n",
            "thirdRow =  [-5, 8, 9, 0]\n",
            "3rd column = [5, 9, 11]\n"
          ]
        },
        {
          "output_type": "error",
          "ename": "TypeError",
          "evalue": "ignored",
          "traceback": [
            "\u001b[0;31m---------------------------------------------------------------------------\u001b[0m",
            "\u001b[0;31mTypeError\u001b[0m                                 Traceback (most recent call last)",
            "\u001b[0;32m<ipython-input-22-d7e39d0fe2ee>\u001b[0m in \u001b[0;36m<cell line: 16>\u001b[0;34m()\u001b[0m\n\u001b[1;32m     14\u001b[0m \u001b[0mprint\u001b[0m\u001b[0;34m(\u001b[0m\u001b[0;34m\"3rd column =\"\u001b[0m\u001b[0;34m,\u001b[0m \u001b[0mcolumn\u001b[0m\u001b[0;34m)\u001b[0m\u001b[0;34m\u001b[0m\u001b[0;34m\u001b[0m\u001b[0m\n\u001b[1;32m     15\u001b[0m \u001b[0;34m\u001b[0m\u001b[0m\n\u001b[0;32m---> 16\u001b[0;31m \u001b[0mprint\u001b[0m\u001b[0;34m(\u001b[0m\u001b[0mA\u001b[0m\u001b[0;34m[\u001b[0m\u001b[0;34m:\u001b[0m\u001b[0;34m,\u001b[0m\u001b[0;36m2\u001b[0m\u001b[0;34m]\u001b[0m\u001b[0;34m)\u001b[0m \u001b[0;31m# this gives you an error, becuase list indices must be integers or slices, not tuple\u001b[0m\u001b[0;34m\u001b[0m\u001b[0;34m\u001b[0m\u001b[0m\n\u001b[0m\u001b[1;32m     17\u001b[0m \u001b[0;31m# however, this will work for numpy array, because numpy array (numpy library) has everything of python list and its ownextra.\u001b[0m\u001b[0;34m\u001b[0m\u001b[0;34m\u001b[0m\u001b[0m\n",
            "\u001b[0;31mTypeError\u001b[0m: list indices must be integers or slices, not tuple"
          ]
        }
      ]
    },
    {
      "cell_type": "code",
      "source": [
        "A = np.array([[1, 4, 5, 12],\n",
        "              [-5, 8, 9, 0],\n",
        "              [-6, 7, 11, 19]]) # this defines a numpy array\n",
        "\n",
        "print(\"A =\", A)\n",
        "print(\"A[0] =\", A[0])      # 2nd row\n",
        "print(\"A[1][2] =\", A[1][2])   # 3rd element of 2nd row\n",
        "print(\"A[0][-2] =\", A[0][-2])   # Last element of 1st Row\n",
        "print(\"thirdRow = \", A[1])\n",
        "column = [];        # empty list\n",
        "for element in A:\n",
        "    column.append(element[2])\n",
        "print(\"3rd column =\", column)\n",
        "\n",
        "print(A[:,2]) # this works for array, but not for list because numpy library has everything of python list and its own extra"
      ],
      "metadata": {
        "colab": {
          "base_uri": "https://localhost:8080/"
        },
        "id": "ALSbmJrbIS37",
        "outputId": "92cb40c1-410b-4c26-ccbb-6e0ddc35b420"
      },
      "execution_count": 24,
      "outputs": [
        {
          "output_type": "stream",
          "name": "stdout",
          "text": [
            "A = [[ 1  4  5 12]\n",
            " [-5  8  9  0]\n",
            " [-6  7 11 19]]\n",
            "A[0] = [ 1  4  5 12]\n",
            "A[1][2] = 9\n",
            "A[0][-2] = 5\n",
            "thirdRow =  [-5  8  9  0]\n",
            "3rd column = [5, 9, 11]\n",
            "[ 5  9 11]\n"
          ]
        }
      ]
    },
    {
      "cell_type": "code",
      "source": [
        "A = [[[1, 4, 5, 12],\n",
        "     [-5, 8, 9, 0],\n",
        "     [-6, 7, 11, 19]],[[1, 4, 5, 12],\n",
        "     [-5, 8, 9, 0],\n",
        "     [-6, 7, 11, 19]]]\n",
        "     # this is to show you how you can create multiple dimensional list\n",
        "     # in class, my code do not have the numpy.array() conversion, it is not a matrix but a high dimensional list\n",
        "\n",
        "# we can do this in numpy\n",
        "A_1 = np.array([[[1, 4, 5, 12],\n",
        "     [-5, 8, 9, 0],\n",
        "     [-6, 7, 11, 19]],[[1, 4, 5, 12],\n",
        "     [-5, 8, 9, 0],\n",
        "     [-6, 7, 11, 19]]])\n",
        "# now A_1 is a tensor (a high dimensional matrix)\n",
        "\n",
        "print(\"A_1 =\", A_1)\n",
        "print(\"A_1[0] =\", A_1[0])      # 2nd row\n",
        "print(\"A_1[1][2] =\", A_1[1][2])   # 3rd element of 2nd row\n",
        "print(\"A_1[0][-2] =\", A_1[0][-2])   # Last element of 1st Row\n",
        "print(\"thirdRow = \", A_1[1])\n",
        "column = [];        # empty list\n",
        "for element in A_1:\n",
        "    column.append(element[2])\n",
        "print(\"3rd column =\", column)\n"
      ],
      "metadata": {
        "colab": {
          "base_uri": "https://localhost:8080/"
        },
        "id": "zG7_7xVeG_rB",
        "outputId": "9b5137a3-1bee-40be-e2f4-a38e6b4dfa08"
      },
      "execution_count": 25,
      "outputs": [
        {
          "output_type": "stream",
          "name": "stdout",
          "text": [
            "A_1 = [[[ 1  4  5 12]\n",
            "  [-5  8  9  0]\n",
            "  [-6  7 11 19]]\n",
            "\n",
            " [[ 1  4  5 12]\n",
            "  [-5  8  9  0]\n",
            "  [-6  7 11 19]]]\n",
            "A_1[0] = [[ 1  4  5 12]\n",
            " [-5  8  9  0]\n",
            " [-6  7 11 19]]\n",
            "A_1[1][2] = [-6  7 11 19]\n",
            "A_1[0][-2] = [-5  8  9  0]\n",
            "thirdRow =  [[ 1  4  5 12]\n",
            " [-5  8  9  0]\n",
            " [-6  7 11 19]]\n",
            "3rd column = [array([-6,  7, 11, 19]), array([-6,  7, 11, 19])]\n"
          ]
        }
      ]
    },
    {
      "cell_type": "code",
      "metadata": {
        "colab": {
          "base_uri": "https://localhost:8080/"
        },
        "id": "elDoTK4Whgbw",
        "outputId": "f3d1b10a-4e72-4ae9-9aa2-a75f8d3f0544"
      },
      "source": [
        "x = np.array([[1,2],[3,4]], dtype=np.float64)\n",
        "z = np.array([2,3])\n",
        "y = np.linalg.inv(x)\n",
        "print (x)\n",
        "# print (y)\n",
        "#print (x*y)\n",
        "print (x*z)\n",
        "print(np.dot(x, z))\n",
        "print(np.matmul(x, z))\n",
        "#w=np.dot(x,y)\n",
        "# print(w)\n",
        "\n",
        "print ('**********I am the separation line ************')\n",
        "z = np.matmul(x,y)\n",
        "print(z)\n",
        "\n",
        "\n"
      ],
      "execution_count": 33,
      "outputs": [
        {
          "output_type": "stream",
          "name": "stdout",
          "text": [
            "[[1. 2.]\n",
            " [3. 4.]]\n",
            "[[ 2.  6.]\n",
            " [ 6. 12.]]\n",
            "[ 8. 18.]\n",
            "[ 8. 18.]\n",
            "**********I am the separation line ************\n",
            "[[1.0000000e+00 0.0000000e+00]\n",
            " [8.8817842e-16 1.0000000e+00]]\n"
          ]
        }
      ]
    },
    {
      "cell_type": "code",
      "source": [
        "x = np.array([[1,2],[3,4]], dtype=np.float32)\n",
        "y = np.linalg.inv(x)\n",
        "print (x)\n",
        "print (y)\n",
        "print (x*y)\n",
        "w=np.dot(x,y)\n",
        "print(w)\n",
        "\n",
        "print ('**********I am the separation line ************')\n",
        "z = np.matmul(x,y)\n",
        "print(z)"
      ],
      "metadata": {
        "colab": {
          "base_uri": "https://localhost:8080/"
        },
        "id": "DZz-AHYiuIke",
        "outputId": "43af59f9-53db-4111-d5c9-fc1060822974"
      },
      "execution_count": null,
      "outputs": [
        {
          "output_type": "stream",
          "name": "stdout",
          "text": [
            "[[1. 2.]\n",
            " [3. 4.]]\n",
            "[[-2.   1. ]\n",
            " [ 1.5 -0.5]]\n",
            "[[-2.   2. ]\n",
            " [ 4.5 -2. ]]\n",
            "[[1. 0.]\n",
            " [0. 1.]]\n",
            "**********I am the separation line ************\n",
            "[[1. 0.]\n",
            " [0. 1.]]\n"
          ]
        }
      ]
    },
    {
      "cell_type": "code",
      "metadata": {
        "colab": {
          "base_uri": "https://localhost:8080/"
        },
        "id": "BQFRNLMenMNL",
        "outputId": "ce04dd14-4798-4aae-c96d-3c20989a9922"
      },
      "source": [
        "x = np.arange(10)\n",
        "print(x)\n",
        "\n",
        "\n",
        "for k in range(10):\n",
        "     print(k+5)"
      ],
      "execution_count": null,
      "outputs": [
        {
          "output_type": "stream",
          "name": "stdout",
          "text": [
            "[0 1 2 3 4 5 6 7 8 9]\n",
            "5\n",
            "6\n",
            "7\n",
            "8\n",
            "9\n",
            "10\n",
            "11\n",
            "12\n",
            "13\n",
            "14\n"
          ]
        }
      ]
    },
    {
      "cell_type": "code",
      "metadata": {
        "colab": {
          "base_uri": "https://localhost:8080/"
        },
        "id": "Qws5Qb8b1otQ",
        "outputId": "c9842a3c-f60e-47cd-aa7f-c6ed190a462e"
      },
      "source": [
        "A = [[1, 4, 5], [-5, 8, 9], [-6, 7, 11]]\n",
        "A = np.array (A)\n",
        "transpose_A = A.transpose()\n",
        "transpose_A2 = np.transpose(A)\n",
        "\n",
        "print (transpose_A)\n",
        "\n",
        "print (transpose_A2)"
      ],
      "execution_count": null,
      "outputs": [
        {
          "output_type": "stream",
          "text": [
            "[[ 1 -5 -6]\n",
            " [ 4  8  7]\n",
            " [ 5  9 11]]\n",
            "[[ 1 -5 -6]\n",
            " [ 4  8  7]\n",
            " [ 5  9 11]]\n"
          ],
          "name": "stdout"
        }
      ]
    },
    {
      "cell_type": "code",
      "source": [
        "AA = np.array([[1,2],[3,4]])\n",
        "b = np.array([2,3])\n",
        "print(AA*b) # elmentwise multiply. this is not matix multiply\n",
        "print(np.dot(AA, b)) # dot multiply\n",
        "print(np.matmul(AA, b)) # innner product, more general, recommended\n",
        "print(AA@b)"
      ],
      "metadata": {
        "colab": {
          "base_uri": "https://localhost:8080/"
        },
        "id": "bgh9BvOpaArS",
        "outputId": "c1eee237-c3e7-494c-b35a-a45c41a1ee74"
      },
      "execution_count": null,
      "outputs": [
        {
          "output_type": "stream",
          "name": "stdout",
          "text": [
            "[[ 2  6]\n",
            " [ 6 12]]\n",
            "[ 8 18]\n",
            "[ 8 18]\n",
            "[ 8 18]\n"
          ]
        }
      ]
    },
    {
      "cell_type": "code",
      "source": [
        "A = np.random.rand(3,2)\n",
        "print(A)\n",
        "print(A.T)"
      ],
      "metadata": {
        "colab": {
          "base_uri": "https://localhost:8080/"
        },
        "id": "_9UDwsLs2gf3",
        "outputId": "382918af-e495-43a7-d393-df729c3ea9d0"
      },
      "execution_count": 34,
      "outputs": [
        {
          "output_type": "stream",
          "name": "stdout",
          "text": [
            "[[0.82489119 0.66283745]\n",
            " [0.82949967 0.60342001]\n",
            " [0.74942002 0.49045737]]\n",
            "[[0.82489119 0.82949967 0.74942002]\n",
            " [0.66283745 0.60342001 0.49045737]]\n"
          ]
        }
      ]
    },
    {
      "cell_type": "markdown",
      "source": [
        "3x + 4y - 2z = 5\n",
        "\n",
        "x - y -z = 2\n",
        "\n",
        "y + 3z = 3"
      ],
      "metadata": {
        "id": "Ev5kj-pQWPMV"
      }
    },
    {
      "cell_type": "code",
      "source": [
        "import numpy as np\n",
        "A = np.array([[3, 4, -2], [1, -1, -1], [0, 1,3]])\n",
        "b = np.array([5, 2, 3])"
      ],
      "metadata": {
        "id": "JQaZKWEKWJNx"
      },
      "execution_count": null,
      "outputs": []
    },
    {
      "cell_type": "code",
      "source": [
        "xyz = np.linalg.inv(A)*b # wrong\n",
        "print('xyz=', xyz)\n",
        "xyz2 = np.matmul(np.linalg.inv(A), b)\n",
        "print('xyz2=',xyz2)\n",
        "\n",
        "# verify the answer\n",
        "print(np.matmul(A,xyz2))"
      ],
      "metadata": {
        "colab": {
          "base_uri": "https://localhost:8080/"
        },
        "id": "op_fSh3uXs_l",
        "outputId": "867e6258-9629-4462-99e6-cb523126b094"
      },
      "execution_count": null,
      "outputs": [
        {
          "output_type": "stream",
          "name": "stdout",
          "text": [
            "xyz= [[ 0.5   1.4   0.9 ]\n",
            " [ 0.75 -0.9  -0.15]\n",
            " [-0.25  0.3   1.05]]\n",
            "xyz2= [ 2.8 -0.3  1.1]\n",
            "[5. 2. 3.]\n"
          ]
        }
      ]
    },
    {
      "cell_type": "code",
      "metadata": {
        "colab": {
          "base_uri": "https://localhost:8080/"
        },
        "id": "H81Px_vj2fDj",
        "outputId": "2a2094ff-adbb-4cc3-c3c3-bc0247862cec"
      },
      "source": [
        "eig_A=np.linalg.eig(A)\n",
        "eig_A"
      ],
      "execution_count": null,
      "outputs": [
        {
          "output_type": "execute_result",
          "data": {
            "text/plain": [
              "(array([13.59373746,  5.03209301,  1.37416954]),\n",
              " array([[ 0.45145779,  0.83661458,  0.10258363],\n",
              "        [ 0.62348353,  0.44632316, -0.77299039],\n",
              "        [ 0.63832135,  0.31760303,  0.62606905]]))"
            ]
          },
          "metadata": {
            "tags": []
          },
          "execution_count": 33
        }
      ]
    },
    {
      "cell_type": "code",
      "source": [],
      "metadata": {
        "id": "p3qBMA1m2Ncm"
      },
      "execution_count": null,
      "outputs": []
    }
  ]
}