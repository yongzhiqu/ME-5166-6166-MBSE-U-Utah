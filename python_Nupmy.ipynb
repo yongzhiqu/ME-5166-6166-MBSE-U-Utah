{
  "nbformat": 4,
  "nbformat_minor": 0,
  "metadata": {
    "kernelspec": {
      "display_name": "Python 3",
      "language": "python",
      "name": "python3"
    },
    "language_info": {
      "codemirror_mode": {
        "name": "ipython",
        "version": 3
      },
      "file_extension": ".py",
      "mimetype": "text/x-python",
      "name": "python",
      "nbconvert_exporter": "python",
      "pygments_lexer": "ipython3",
      "version": "3.8.3"
    },
    "colab": {
      "provenance": [],
      "include_colab_link": true
    }
  },
  "cells": [
    {
      "cell_type": "markdown",
      "metadata": {
        "id": "view-in-github",
        "colab_type": "text"
      },
      "source": [
        "<a href=\"https://colab.research.google.com/github/yongzhiqu/ME-5166-6166-MBSE-U-Utah/blob/main/python_Nupmy.ipynb\" target=\"_parent\"><img src=\"https://colab.research.google.com/assets/colab-badge.svg\" alt=\"Open In Colab\"/></a>"
      ]
    },
    {
      "cell_type": "code",
      "metadata": {
        "id": "yxCUvt-hhq5n",
        "colab": {
          "base_uri": "https://localhost:8080/"
        },
        "outputId": "a0a57c0b-1ce4-4978-f12f-e604bc0b1e63"
      },
      "source": [
        "A = [[1, 4, 5], [-5, 8, 9], [-6, 7, 11]]\n",
        "A = np.array (A)\n",
        "transpose_A = A.transpose()\n",
        "\n",
        "transpose_A2 = np.transpose(A)\n",
        "\n",
        "print (transpose_A)\n",
        "\n",
        "print (transpose_A2)"
      ],
      "execution_count": null,
      "outputs": [
        {
          "output_type": "stream",
          "text": [
            "[[ 1 -5 -6]\n",
            " [ 4  8  7]\n",
            " [ 5  9 11]]\n",
            "[[ 1 -5 -6]\n",
            " [ 4  8  7]\n",
            " [ 5  9 11]]\n"
          ],
          "name": "stdout"
        }
      ]
    },
    {
      "cell_type": "code",
      "metadata": {
        "id": "6ghopBLoiOzH",
        "colab": {
          "base_uri": "https://localhost:8080/"
        },
        "outputId": "93933a71-2b2f-483d-f851-04ba6ce04eb3"
      },
      "source": [
        "eig_A=np.linalg.eig(A)\n",
        "eig_A"
      ],
      "execution_count": null,
      "outputs": [
        {
          "output_type": "execute_result",
          "data": {
            "text/plain": [
              "(array([13.59373746,  5.03209301,  1.37416954]),\n",
              " array([[ 0.45145779,  0.83661458,  0.10258363],\n",
              "        [ 0.62348353,  0.44632316, -0.77299039],\n",
              "        [ 0.63832135,  0.31760303,  0.62606905]]))"
            ]
          },
          "metadata": {
            "tags": []
          },
          "execution_count": 4
        }
      ]
    },
    {
      "cell_type": "code",
      "metadata": {
        "id": "pUwqxgN-iP7a",
        "colab": {
          "base_uri": "https://localhost:8080/"
        },
        "outputId": "d0b93b2e-a4ca-4dbe-dfdd-93823c22bc37"
      },
      "source": [
        "a = np.zeros((2,2))   # Create an array of all zeros\n",
        "print(a)              # Prints \"[[ 0.  0.]\n",
        "                      #          [ 0.  0.]]\"\n",
        "\n",
        "b = np.ones((1,2))    # Create an array of all ones\n",
        "print(b)              # Prints \"[[ 1.  1.]]\"\n",
        "\n",
        "c = np.full((2,2), 7)  # Create a constant array\n",
        "print(c)               # Prints \"[[ 7.  7.]\n",
        "                       #          [ 7.  7.]]\"\n",
        "\n",
        "d = np.eye(2)         # Create a 2x2 identity matrix\n",
        "print(d)              # Prints \"[[ 1.  0.]\n",
        "                      #          [ 0.  1.]]\"\n",
        "\n",
        "e = np.random.random((2,2))  # Create an array filled with random values\n",
        "print(e)                     # Might print \"[[ 0.91940167  0.08143941]\n",
        "                             #               [ 0.68744134  0.87236687]]\""
      ],
      "execution_count": null,
      "outputs": [
        {
          "output_type": "stream",
          "text": [
            "[[0. 0.]\n",
            " [0. 0.]]\n",
            "[[1. 1.]]\n",
            "[[7 7]\n",
            " [7 7]]\n",
            "[[1. 0.]\n",
            " [0. 1.]]\n",
            "[[0.66590177 0.58281732]\n",
            " [0.10757082 0.74598647]]\n"
          ],
          "name": "stdout"
        }
      ]
    },
    {
      "cell_type": "markdown",
      "metadata": {
        "id": "JelUPhKTPxKB"
      },
      "source": [
        "Note that the numpy library does not make a distinction between column and row vectors. Matrix multiplication can be performed using the following syntax:"
      ]
    },
    {
      "cell_type": "code",
      "metadata": {
        "tags": [],
        "id": "ZEEoHJj2PxKB",
        "colab": {
          "base_uri": "https://localhost:8080/"
        },
        "outputId": "fa5eb403-fe02-41bf-a6c3-3ca39c522a62"
      },
      "source": [
        "result = my_array.dot(my_vector)\n",
        "print(result)"
      ],
      "execution_count": null,
      "outputs": [
        {
          "output_type": "stream",
          "text": [
            "[ 5 11]\n"
          ],
          "name": "stdout"
        }
      ]
    },
    {
      "cell_type": "markdown",
      "metadata": {
        "id": "oTR0rKndPxKC"
      },
      "source": [
        "Or, equivalently, with the following syntax:"
      ]
    },
    {
      "cell_type": "code",
      "metadata": {
        "tags": [],
        "id": "nmao0g3lPxKC",
        "colab": {
          "base_uri": "https://localhost:8080/"
        },
        "outputId": "6974c999-69b1-46d7-fb12-63c2273924fc"
      },
      "source": [
        "result = np.dot(my_array,my_vector)\n",
        "print(result)"
      ],
      "execution_count": null,
      "outputs": [
        {
          "output_type": "stream",
          "text": [
            "[ 5 11]\n"
          ],
          "name": "stdout"
        }
      ]
    },
    {
      "cell_type": "markdown",
      "metadata": {
        "id": "dzbWNjErPxKC"
      },
      "source": [
        "Note that the multiplication operator performs an element-wise matrix opperation rather than a matrix multiplication. Because of this, the following is not equivalent to a matrix multiplication."
      ]
    },
    {
      "cell_type": "code",
      "metadata": {
        "tags": [],
        "id": "lmWn1QKrPxKD",
        "colab": {
          "base_uri": "https://localhost:8080/"
        },
        "outputId": "aa3494c5-b01c-4fd9-88ef-5b956c3f69f8"
      },
      "source": [
        "result = my_array*my_vector\n",
        "print(result)"
      ],
      "execution_count": null,
      "outputs": [
        {
          "output_type": "stream",
          "text": [
            "[[1 4]\n",
            " [3 8]]\n"
          ],
          "name": "stdout"
        }
      ]
    },
    {
      "cell_type": "code",
      "metadata": {
        "id": "-QsMIBachhDn",
        "colab": {
          "base_uri": "https://localhost:8080/"
        },
        "outputId": "0d78bc7a-a8f3-4c2b-9bb3-d05b619e36de"
      },
      "source": [
        "x = np.array([[1,2],[3,4]])\n",
        "x.astype(float)\n",
        "y = np.linalg.inv(x)\n",
        "y.astype(float)\n",
        "print (x)\n",
        "print (y)\n",
        "print (x*y)\n",
        "w=np.dot(x,y)\n",
        "print(w)\n",
        "\n",
        "print ('**********I am the separation line ************')\n",
        "z = np.matmul(x,y)\n",
        "print(z)"
      ],
      "execution_count": null,
      "outputs": [
        {
          "output_type": "stream",
          "text": [
            "[[1 2]\n",
            " [3 4]]\n",
            "[[-2.   1. ]\n",
            " [ 1.5 -0.5]]\n",
            "[[-2.   2. ]\n",
            " [ 4.5 -2. ]]\n",
            "[[1.0000000e+00 0.0000000e+00]\n",
            " [8.8817842e-16 1.0000000e+00]]\n",
            "**********I am the separation line ************\n",
            "[[1.0000000e+00 0.0000000e+00]\n",
            " [8.8817842e-16 1.0000000e+00]]\n"
          ],
          "name": "stdout"
        }
      ]
    },
    {
      "cell_type": "markdown",
      "metadata": {
        "id": "q1HtJhCdPxKG"
      },
      "source": [
        "A numpy tutorial can be found [here](http://docs.scipy.org/doc/numpy/user/quickstart.html). If you're familiar with Matlab, a numpy tutorial for Matlab users is available [here](https://docs.scipy.org/doc/numpy/user/numpy-for-matlab-users.html)."
      ]
    },
    {
      "cell_type": "code",
      "metadata": {
        "colab": {
          "base_uri": "https://localhost:8080/"
        },
        "id": "HDFAYnsyj3x9",
        "outputId": "f0bcce9d-1c89-465c-992d-f979b4419aa7"
      },
      "source": [
        "import numpy as np\n",
        "input = np.array([[3,5,6], [1,2,2], [1,6,-2]])\n",
        "output = np.array([10,13,2])\n",
        "print(input)\n",
        "print(output)"
      ],
      "execution_count": null,
      "outputs": [
        {
          "output_type": "stream",
          "text": [
            "[[ 3  5  6]\n",
            " [ 1  2  2]\n",
            " [ 1  6 -2]]\n",
            "[10 13  2]\n"
          ],
          "name": "stdout"
        }
      ]
    },
    {
      "cell_type": "code",
      "metadata": {
        "colab": {
          "base_uri": "https://localhost:8080/"
        },
        "id": "w54CIlZUkplI",
        "outputId": "9a0cca58-7972-4864-870d-fe23dd606359"
      },
      "source": [
        "coff=np.matmul(np.linalg.inv(input),output)\n",
        "coff"
      ],
      "execution_count": null,
      "outputs": [
        {
          "output_type": "execute_result",
          "data": {
            "text/plain": [
              "array([-108.5 ,   29.  ,   31.75])"
            ]
          },
          "metadata": {
            "tags": []
          },
          "execution_count": 25
        }
      ]
    },
    {
      "cell_type": "code",
      "metadata": {
        "colab": {
          "base_uri": "https://localhost:8080/"
        },
        "id": "UhO74VwTlKad",
        "outputId": "fbf6ea17-3feb-4a91-8183-76723c2df1b5"
      },
      "source": [
        "predictY = np.matmul(input,coff)\n",
        "predictY"
      ],
      "execution_count": null,
      "outputs": [
        {
          "output_type": "execute_result",
          "data": {
            "text/plain": [
              "array([10., 13.,  2.])"
            ]
          },
          "metadata": {
            "tags": []
          },
          "execution_count": 26
        }
      ]
    },
    {
      "cell_type": "code",
      "metadata": {
        "colab": {
          "base_uri": "https://localhost:8080/"
        },
        "id": "X2hmxvYnlhgR",
        "outputId": "3487d0e5-caf2-430e-aaa1-87f5e5dee53b"
      },
      "source": [
        "input2 = np.array([[3,4,6],[1,2,3],[4, -4, 10]])\n",
        "input2\n"
      ],
      "execution_count": null,
      "outputs": [
        {
          "output_type": "execute_result",
          "data": {
            "text/plain": [
              "array([[ 3,  4,  6],\n",
              "       [ 1,  2,  3],\n",
              "       [ 4, -4, 10]])"
            ]
          },
          "metadata": {
            "tags": []
          },
          "execution_count": 36
        }
      ]
    },
    {
      "cell_type": "code",
      "metadata": {
        "colab": {
          "base_uri": "https://localhost:8080/"
        },
        "id": "sMgCLH5gl3ds",
        "outputId": "750d3305-7fd0-4693-8cd8-5bdd1a7d765d"
      },
      "source": [
        "output2 = np.matmul(input2,coff)\n",
        "output2"
      ],
      "execution_count": null,
      "outputs": [
        {
          "output_type": "execute_result",
          "data": {
            "text/plain": [
              "array([ -19.  ,   44.75, -232.5 ])"
            ]
          },
          "metadata": {
            "tags": []
          },
          "execution_count": 37
        }
      ]
    }
  ]
}